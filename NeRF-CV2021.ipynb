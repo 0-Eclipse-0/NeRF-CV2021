{
  "nbformat": 4,
  "nbformat_minor": 0,
  "metadata": {
    "colab": {
      "provenance": [],
      "collapsed_sections": [
        "gSuJqqxr6kNG"
      ],
      "gpuType": "T4"
    },
    "kernelspec": {
      "name": "python3",
      "display_name": "Python 3"
    },
    "language_info": {
      "name": "python"
    },
    "accelerator": "GPU"
  },
  "cells": [
    {
      "cell_type": "markdown",
      "source": [
        "# __CMSC 491 - NeRF__"
      ],
      "metadata": {
        "id": "1gOlpWcdvfOj"
      }
    },
    {
      "cell_type": "markdown",
      "source": [
        "## Setup"
      ],
      "metadata": {
        "id": "gxCGKNTWvmcn"
      }
    },
    {
      "cell_type": "markdown",
      "source": [
        "#### Directory Cleanup\n",
        "> This command cleans up the directory so you don't run into errors from stagnant files. ***DON'T MODIFY CODE IN COLLAB OR MOUNT GOOGLE DRIVE THIS WILL DELETE YOUR PROGRESS AND ALL OF THE FILES IN YOUR DRIVE***"
      ],
      "metadata": {
        "id": "gSuJqqxr6kNG"
      }
    },
    {
      "cell_type": "code",
      "source": [
        "!rm -r *"
      ],
      "metadata": {
        "id": "-xvXUl5V6hmu"
      },
      "execution_count": null,
      "outputs": []
    },
    {
      "cell_type": "markdown",
      "source": [
        "#### Download Source Code\n",
        ">Obtain or update source code based on your current branch status using the following script. Main branch should only be pushed to when you are certain all bugs have been fixed, otherwise only update the branch related to your changes and test that branch here."
      ],
      "metadata": {
        "id": "QtWH94OT2asE"
      }
    },
    {
      "cell_type": "code",
      "source": [
        "branch_name = input(\"Branch name ('main' for release version): \")\n",
        "!wget https://github.com/0-Eclipse-0/NeRF-CV2021/archive/refs/heads/{branch_name}.zip\n",
        "!unzip {branch_name}.zip\n",
        "!mv NeRF-CV2021-{branch_name}/* .\n",
        "!rm {branch_name}.zip\n",
        "!rmdir NeRF-CV2021-{branch_name}"
      ],
      "metadata": {
        "id": "pE7y9lBx2r4m"
      },
      "execution_count": null,
      "outputs": []
    },
    {
      "cell_type": "markdown",
      "source": [
        "#### Download Sample Data (Only Necessary for Testing)"
      ],
      "metadata": {
        "id": "mluoniwvtarv"
      }
    },
    {
      "cell_type": "code",
      "source": [
        "!sh download_example_data.sh\n"
      ],
      "metadata": {
        "id": "23j3y1HOtbq5"
      },
      "execution_count": null,
      "outputs": []
    },
    {
      "cell_type": "markdown",
      "source": [
        "## Testing"
      ],
      "metadata": {
        "id": "hXGyvTJsvsC2"
      }
    },
    {
      "cell_type": "markdown",
      "source": [
        "#### Install Requirements\n",
        "> You only need to do this once per runtime (it takes a decent amount of time so grab a coffee)."
      ],
      "metadata": {
        "id": "-Ltk5ARQB5qX"
      }
    },
    {
      "cell_type": "code",
      "source": [
        "!pip --disable-pip-version-check install -r requirements.txt"
      ],
      "metadata": {
        "id": "Cos_zVfQB4_g"
      },
      "execution_count": null,
      "outputs": []
    },
    {
      "cell_type": "markdown",
      "source": [
        "#### Run from Config\n",
        ">Input config file name (should be stored in `configs/`). Redact *.txt from your config name. Make sure you're using a GPU runtime since NeRF relies on CUDA. This will take a few hours."
      ],
      "metadata": {
        "id": "gFavv8Ho0E7p"
      }
    },
    {
      "cell_type": "code",
      "source": [
        "config = input(\"Config file name: \")\n",
        "!python run_nerf.py --config configs/{config}.txt"
      ],
      "metadata": {
        "colab": {
          "base_uri": "https://localhost:8080/"
        },
        "id": "_PmhPLyBvuwd",
        "outputId": "5b001795-86af-47d9-bbe0-4389deb83307"
      },
      "execution_count": null,
      "outputs": []
    }
  ]
}
