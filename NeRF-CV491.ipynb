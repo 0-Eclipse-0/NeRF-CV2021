{
  "cells": [
    {
      "cell_type": "markdown",
      "metadata": {
        "id": "1gOlpWcdvfOj"
      },
      "source": [
        "# __CMSC 491 - NeRF__"
      ]
    },
    {
      "cell_type": "markdown",
      "metadata": {
        "id": "gxCGKNTWvmcn"
      },
      "source": [
        "## Setup"
      ]
    },
    {
      "cell_type": "markdown",
      "metadata": {
        "id": "gSuJqqxr6kNG"
      },
      "source": [
        "#### Directory Cleanup\n",
        "> This command cleans up the directory so you don't run into errors from stagnant files. ***DON'T MODIFY CODE IN COLLAB OR MOUNT GOOGLE DRIVE THIS WILL DELETE YOUR PROGRESS AND ALL OF THE FILES IN YOUR DRIVE***"
      ]
    },
    {
      "cell_type": "code",
      "execution_count": null,
      "metadata": {
        "id": "-xvXUl5V6hmu"
      },
      "outputs": [],
      "source": [
        "!rm -r *"
      ]
    },
    {
      "cell_type": "markdown",
      "metadata": {
        "id": "QtWH94OT2asE"
      },
      "source": [
        "#### Download Source Code\n",
        ">Obtain or update source code based on your current branch status using the following script. Main branch should only be pushed to when you are certain all bugs have been fixed, otherwise only update the branch related to your changes and test that branch here."
      ]
    },
    {
      "cell_type": "code",
      "execution_count": null,
      "metadata": {
        "id": "pE7y9lBx2r4m"
      },
      "outputs": [],
      "source": [
        "branch_name = input(\"Branch name ('main' for release version): \")\n",
        "!wget https://github.com/0-Eclipse-0/NeRF-CV2021/archive/refs/heads/{branch_name}.zip\n",
        "!unzip {branch_name}.zip\n",
        "!mv NeRF-CV2021-{branch_name}/* .\n",
        "!rm {branch_name}.zip\n",
        "!rmdir NeRF-CV2021-{branch_name}"
      ]
    },
    {
      "cell_type": "markdown",
      "metadata": {
        "id": "mluoniwvtarv"
      },
      "source": [
        "#### Download Sample Data (Only Necessary for Testing)"
      ]
    },
    {
      "cell_type": "code",
      "execution_count": null,
      "metadata": {
        "id": "23j3y1HOtbq5"
      },
      "outputs": [],
      "source": [
        "!sh download_example_data.sh\n"
      ]
    },
    {
      "cell_type": "markdown",
      "metadata": {
        "id": "hXGyvTJsvsC2"
      },
      "source": [
        "## Testing"
      ]
    },
    {
      "cell_type": "markdown",
      "metadata": {
        "id": "-Ltk5ARQB5qX"
      },
      "source": [
        "#### Install Requirements\n",
        "> You only need to do this once per runtime (it takes a decent amount of time so grab a coffee)."
      ]
    },
    {
      "cell_type": "code",
      "execution_count": null,
      "metadata": {
        "id": "Cos_zVfQB4_g"
      },
      "outputs": [],
      "source": [
        "!pip --disable-pip-version-check install -r requirements.txt"
      ]
    },
    {
      "cell_type": "markdown",
      "metadata": {
        "id": "gFavv8Ho0E7p"
      },
      "source": [
        "#### Train from Config\n",
        ">Input config file name (should be stored in `configs/`). Redact *.txt from your config name. Make sure you're using a GPU runtime since NeRF relies on CUDA. This will take a few hours."
      ]
    },
    {
      "cell_type": "code",
      "execution_count": null,
      "metadata": {
        "colab": {
          "background_save": true
        },
        "id": "_PmhPLyBvuwd"
      },
      "outputs": [],
      "source": [
        "config = input(\"Config file name: \")\n",
        "!python run_nerf.py --config configs/{config}.txt"
      ]
    },
    {
      "cell_type": "markdown",
      "metadata": {
        "id": "eoDsO8UaHQxV"
      },
      "source": [
        "#### Test NeRF\n",
        ">Test NeRF on previously trained dataset"
      ]
    },
    {
      "cell_type": "code",
      "execution_count": null,
      "metadata": {
        "id": "UYmOgw6iHXb7"
      },
      "outputs": [],
      "source": [
        "config = input(\"Enter trained data set: \")\n",
        "!python run_nerf.py --config configs/{config} --render_only"
      ]
    }
  ],
  "metadata": {
    "accelerator": "GPU",
    "colab": {
      "collapsed_sections": [
        "gSuJqqxr6kNG"
      ],
      "gpuType": "V100",
      "provenance": []
    },
    "kernelspec": {
      "display_name": "Python 3",
      "name": "python3"
    },
    "language_info": {
      "name": "python"
    }
  },
  "nbformat": 4,
  "nbformat_minor": 0
}
